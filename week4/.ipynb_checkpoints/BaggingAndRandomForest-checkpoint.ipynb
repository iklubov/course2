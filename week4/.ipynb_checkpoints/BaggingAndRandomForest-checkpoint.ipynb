{
 "cells": [
  {
   "cell_type": "code",
   "execution_count": 1,
   "metadata": {},
   "outputs": [],
   "source": [
    "from sklearn import datasets, model_selection\n",
    "from sklearn.model_selection import cross_val_score\n",
    "from sklearn.tree import DecisionTreeClassifier\n",
    "from sklearn.ensemble import BaggingClassifier, RandomForestClassifier\n",
    "from scipy.spatial import distance\n",
    "import numpy as np"
   ]
  },
  {
   "cell_type": "code",
   "execution_count": 2,
   "metadata": {},
   "outputs": [],
   "source": [
    "def write_answer(result, number):\n",
    "    fileName = 'bagging' + str(number)+'.txt'\n",
    "    with open(fileName, \"w\") as fout:\n",
    "        fout.write(str(result))"
   ]
  },
  {
   "cell_type": "markdown",
   "metadata": {},
   "source": [
    "##  Берем выборку и обучаем на одном дереве"
   ]
  },
  {
   "cell_type": "code",
   "execution_count": 13,
   "metadata": {},
   "outputs": [
    {
     "name": "stdout",
     "output_type": "stream",
     "text": [
      "0.836959633920387\n",
      "<sklearn.tree._tree.Tree object at 0x0000000009126ED0>\n"
     ]
    }
   ],
   "source": [
    "data = datasets.load_digits()\n",
    "#print data.keys()\n",
    "#print data['DESCR']\n",
    "X = data['data']\n",
    "y = data['target']\n",
    "estimator = DecisionTreeClassifier()\n",
    "estimator.fit(X,y)\n",
    "result = cross_val_score(estimator, X, y, cv=10)\n",
    "mean = result.mean()\n",
    "print mean\n",
    "\n"
   ]
  },
  {
   "cell_type": "markdown",
   "metadata": {},
   "source": [
    "## Обучаем бэггинг"
   ]
  },
  {
   "cell_type": "code",
   "execution_count": 14,
   "metadata": {},
   "outputs": [],
   "source": [
    "bagging = BaggingClassifier(estimator, n_estimators=100)"
   ]
  },
  {
   "cell_type": "code",
   "execution_count": 15,
   "metadata": {},
   "outputs": [
    {
     "name": "stdout",
     "output_type": "stream",
     "text": [
      "0.9226642227217849\n"
     ]
    }
   ],
   "source": [
    "bagging.fit(X,y)\n",
    "bresult = cross_val_score(bagging, X, y, cv=10)\n",
    "bmean = bresult.mean()\n",
    "print bmean\n",
    "write_answer(bmean, 2)"
   ]
  },
  {
   "cell_type": "markdown",
   "metadata": {},
   "source": [
    "## Уменьшаем количество признаков"
   ]
  },
  {
   "cell_type": "code",
   "execution_count": 23,
   "metadata": {},
   "outputs": [
    {
     "name": "stdout",
     "output_type": "stream",
     "text": [
      "(1797L, 64L)\n",
      "0.9326965072025878\n"
     ]
    }
   ],
   "source": [
    "print X.shape\n",
    "bagging.max_features= 8\n",
    "bagging.fit(X,y)\n",
    "sbresult = cross_val_score(bagging, X, y, cv=10)\n",
    "sbmean = sbresult.mean()\n",
    "print sbmean\n",
    "write_answer(sbmean, 3)\n"
   ]
  },
  {
   "cell_type": "markdown",
   "metadata": {},
   "source": [
    "## Добавляем генерацию признаков для каждой вершины"
   ]
  },
  {
   "cell_type": "code",
   "execution_count": 24,
   "metadata": {},
   "outputs": [
    {
     "name": "stdout",
     "output_type": "stream",
     "text": [
      "0.9527260282162159\n"
     ]
    }
   ],
   "source": [
    "restimator = DecisionTreeClassifier(splitter=\"random\", max_features = 8)\n",
    "rbagging = BaggingClassifier(restimator, n_estimators=100)\n",
    "rresult = cross_val_score(rbagging, X, y, cv=10)\n",
    "randmean = rresult.mean()\n",
    "print randmean\n",
    "write_answer(randmean, 4)\n",
    "\n",
    "\n"
   ]
  },
  {
   "cell_type": "markdown",
   "metadata": {},
   "source": [
    "## Смотрим на зависимость от глубины дерева"
   ]
  },
  {
   "cell_type": "code",
   "execution_count": 35,
   "metadata": {},
   "outputs": [
    {
     "name": "stdout",
     "output_type": "stream",
     "text": [
      "0.9171217731155334\n",
      "0.9159812413380456\n"
     ]
    }
   ],
   "source": [
    "estimator = DecisionTreeClassifier()\n",
    "bagging = BaggingClassifier(estimator, n_estimators=20)\n",
    "#bagging.fit(X,y)\n",
    "result = cross_val_score(bagging, X, y, cv=10)\n",
    "mean = result.mean()\n",
    "print mean\n",
    "nestimator = DecisionTreeClassifier(max_depth=10)\n",
    "nbagging = BaggingClassifier(nestimator, n_estimators=20)\n",
    "#nbagging.fit(X,y)\n",
    "nresult = cross_val_score(nbagging, X, y, cv=10)\n",
    "nmean = nresult.mean()\n",
    "print nmean"
   ]
  },
  {
   "cell_type": "markdown",
   "metadata": {},
   "source": [
    "## Смотрим на зависимость от числа деревьев"
   ]
  },
  {
   "cell_type": "code",
   "execution_count": 36,
   "metadata": {},
   "outputs": [
    {
     "name": "stdout",
     "output_type": "stream",
     "text": [
      "1 0.8123184231482032\n",
      "2 0.8098063308229821\n",
      "3 0.8503617084913178\n",
      "5 0.8811163381403819\n",
      "8 0.9087883698443913\n",
      "12 0.9114811814219536\n",
      "16 0.9126859192187136\n",
      "20 0.9199420301082671\n",
      "50 0.9271110805862042\n"
     ]
    }
   ],
   "source": [
    "for i in [1,2,3,5,8,12,16,20,50]:\n",
    "    bagging = BaggingClassifier(estimator, n_estimators=i)\n",
    "    #bagging.fit(X,y)\n",
    "    result = cross_val_score(bagging, X, y, cv=10)\n",
    "    mean = result.mean()\n",
    "    print i, mean\n",
    "    "
   ]
  },
  {
   "cell_type": "code",
   "execution_count": 38,
   "metadata": {},
   "outputs": [],
   "source": [
    "answer5 = \"2 3 4 7\"\n",
    "write_answer(answer5, 5)"
   ]
  }
 ],
 "metadata": {
  "kernelspec": {
   "display_name": "Python 2",
   "language": "python",
   "name": "python2"
  },
  "language_info": {
   "codemirror_mode": {
    "name": "ipython",
    "version": 2
   },
   "file_extension": ".py",
   "mimetype": "text/x-python",
   "name": "python",
   "nbconvert_exporter": "python",
   "pygments_lexer": "ipython2",
   "version": "2.7.15"
  }
 },
 "nbformat": 4,
 "nbformat_minor": 2
}
