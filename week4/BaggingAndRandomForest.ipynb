{
 "cells": [
  {
   "cell_type": "code",
   "execution_count": 25,
   "metadata": {},
   "outputs": [],
   "source": [
    "from sklearn import datasets, model_selection\n",
    "from sklearn.model_selection import cross_val_score\n",
    "from sklearn.tree import DecisionTreeClassifier\n",
    "from sklearn.ensemble import BaggingClassifier\n",
    "from scipy.spatial import distance\n",
    "import numpy as np"
   ]
  },
  {
   "cell_type": "code",
   "execution_count": 26,
   "metadata": {},
   "outputs": [],
   "source": [
    "def write_answer(result, number):\n",
    "    fileName = 'bagging' + str(number)+'.txt'\n",
    "    with open(fileName, \"w\") as fout:\n",
    "        fout.write(str(result))"
   ]
  },
  {
   "cell_type": "markdown",
   "metadata": {},
   "source": [
    "##  Берем выборку и обучаем на одном дереве"
   ]
  },
  {
   "cell_type": "code",
   "execution_count": 27,
   "metadata": {},
   "outputs": [
    {
     "name": "stdout",
     "output_type": "stream",
     "text": [
      "0.8224752660909266\n"
     ]
    }
   ],
   "source": [
    "data = datasets.load_digits()\n",
    "#print data.keys()\n",
    "#print data['DESCR']\n",
    "X = data['data']\n",
    "y = data['target']\n",
    "estimator = DecisionTreeClassifier()\n",
    "result = cross_val_score(estimator, X, y, cv=10)\n",
    "mean = result.mean()\n",
    "print mean\n",
    "write_answer(mean, 1)\n"
   ]
  },
  {
   "cell_type": "markdown",
   "metadata": {},
   "source": [
    "## Обучаем бэггинг"
   ]
  },
  {
   "cell_type": "code",
   "execution_count": 28,
   "metadata": {},
   "outputs": [],
   "source": [
    "bagging = BaggingClassifier(estimator, n_estimators=100)"
   ]
  },
  {
   "cell_type": "code",
   "execution_count": 29,
   "metadata": {},
   "outputs": [
    {
     "name": "stdout",
     "output_type": "stream",
     "text": [
      "0.9221279098783137\n"
     ]
    }
   ],
   "source": [
    "bagging.fit(X,y)\n",
    "bresult = cross_val_score(bagging, X, y, cv=10)\n",
    "bmean = bresult.mean()\n",
    "print bmean\n",
    "write_answer(bmean, 2)"
   ]
  },
  {
   "cell_type": "markdown",
   "metadata": {},
   "source": [
    "## Уменьшаем количество признаков"
   ]
  },
  {
   "cell_type": "code",
   "execution_count": 30,
   "metadata": {},
   "outputs": [
    {
     "name": "stdout",
     "output_type": "stream",
     "text": [
      "(1797L, 64L)\n",
      "10\n"
     ]
    }
   ],
   "source": [
    "print X.shape\n",
    "print bagging.n_classes_"
   ]
  },
  {
   "cell_type": "code",
   "execution_count": 31,
   "metadata": {},
   "outputs": [
    {
     "name": "stdout",
     "output_type": "stream",
     "text": [
      "3\n"
     ]
    }
   ],
   "source": [
    "bagging.n_classes_ = int(np.math.sqrt(bagging.n_classes_))\n",
    "print bagging.n_classes_ "
   ]
  },
  {
   "cell_type": "code",
   "execution_count": 33,
   "metadata": {},
   "outputs": [
    {
     "name": "stdout",
     "output_type": "stream",
     "text": [
      "0.9243563725242347\n"
     ]
    }
   ],
   "source": [
    "#bagging\n",
    "sbresult = cross_val_score(bagging, X, y, cv=10)\n",
    "sbmean = sbresult.mean()\n",
    "print sbmean\n",
    "write_answer(sbmean, 3)"
   ]
  },
  {
   "cell_type": "markdown",
   "metadata": {},
   "source": [
    "## Добавляем генерацию признаков для каждой вершины"
   ]
  },
  {
   "cell_type": "code",
   "execution_count": null,
   "metadata": {},
   "outputs": [
    {
     "name": "stdout",
     "output_type": "stream",
     "text": [
      "3\n"
     ]
    }
   ],
   "source": [
    "bagging.n_classes = 3\n",
    "print bagging.n_classes_\n",
    "bagging.random_state = None\n",
    "estimator.splitting = \"random\"\n",
    "#bagging.n_classes_ = int(np.math.sqrt(X.shape[1]))\n",
    "bagging.fit(X,y)\n",
    "randresult = cross_val_score(bagging, X, y, cv=10)\n",
    "randmean = randresult.mean()\n",
    "print randmean\n",
    "write_answer(randmean, 4)"
   ]
  },
  {
   "cell_type": "code",
   "execution_count": null,
   "metadata": {},
   "outputs": [],
   "source": []
  }
 ],
 "metadata": {
  "kernelspec": {
   "display_name": "Python 2",
   "language": "python",
   "name": "python2"
  },
  "language_info": {
   "codemirror_mode": {
    "name": "ipython",
    "version": 2
   },
   "file_extension": ".py",
   "mimetype": "text/x-python",
   "name": "python",
   "nbconvert_exporter": "python",
   "pygments_lexer": "ipython2",
   "version": "2.7.15"
  }
 },
 "nbformat": 4,
 "nbformat_minor": 2
}
